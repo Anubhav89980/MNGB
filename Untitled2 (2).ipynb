{
 "cells": [
  {
   "cell_type": "code",
   "execution_count": 1,
   "id": "737f7ab7-b1fb-447a-9aa3-978229db197e",
   "metadata": {},
   "outputs": [],
   "source": [
    "#MongoDB:\n",
    "#MongoDB is a NoSQL, document-oriented database management system. It stores data in flexible, JSON-like documents called BSON (Binary JSON). MongoDB is designed to be scalable and provides high performance, flexibility, and easy scalability for handling large volumes of unstructured data.\n",
    "\n",
    "#Non-relational databases:\n",
    "#Non-relational databases, often referred to as NoSQL databases, are a type of database management system that does not follow the traditional relational database model. Unlike SQL databases, NoSQL databases are schema-less and can handle unstructured or semi-structured data. They are suitable for scenarios where flexibility, scalability, and fast access to large amounts of data are crucial.\n",
    "\n",
    "#Scenarios to prefer MongoDB over SQL databases:\n",
    "\n",
    "#Flexible Schema: MongoDB allows dynamic schema, which means each document in a collection can have a different structure.\n",
    "#Horizontal Scalability: MongoDB can scale horizontally by sharding, making it easier to handle large amounts of data and traffic.\n",
    "#Document Storage: It is well-suited for storing complex, hierarchical data structures as documents, which can include arrays and other documents.\n",
    "#JSON/BSON Format: MongoDB uses a format similar to JSON (BSON), which is more natural for developers to work with, especially in web applications.\n",
    "#Agile Development: MongoDB's flexibility is advantageous in agile development environments where requirements can change rapidly."
   ]
  },
  {
   "cell_type": "code",
   "execution_count": 2,
   "id": "a13cf482-fc30-47b9-84aa-3bcc3b7539b2",
   "metadata": {},
   "outputs": [],
   "source": [
    "#Document-Oriented: MongoDB stores data in flexible, JSON-like documents.\n",
    "#Dynamic Schema: Each document in a collection can have a different structure.\n",
    "#Indexing: Supports indexing to improve query performance.\n",
    "#Replication: Provides high availability through replica sets.\n",
    "#Sharding: Scales horizontally through sharding for handling large amounts of data.\n",
    "#Ad Hoc Queries: Supports ad-hoc queries by indexing on any attribute.\n",
    "#Aggregation Framework: Provides powerful aggregation and data processing capabilities.\n",
    "#GridFS: Supports storing and retrieving large files (e.g., images, videos) as separate documents."
   ]
  },
  {
   "cell_type": "code",
   "execution_count": 8,
   "id": "b34d956c-c84f-445c-b683-740eec39b183",
   "metadata": {},
   "outputs": [],
   "source": [
    "#from pymongo import MongoClient\n",
    "\n",
    "#client = MongoClient(\"mongodb://localhost:27017/\")\n",
    "\n",
    "\n",
    "#my_database = client[\"my_database\"]\n",
    "\n",
    "\n",
    "#my_collection = my_database[\"my_collection\"]\n"
   ]
  },
  {
   "cell_type": "code",
   "execution_count": 5,
   "id": "4c7b3e0a-93f7-46b7-86b9-3cf8eddb290e",
   "metadata": {},
   "outputs": [],
   "source": [
    "# Insert one record\n",
    "#record_one = {\"name\": \"John Doe\", \"age\": 25, \"city\": \"New York\"}\n",
    "#my_collection.insert_one(record_one)\n",
    "\n",
    "# Insert many records\n",
    "#records_many = [\n",
    "  #  {\"name\": \"Anubhav\", \"age\": 30, \"city\": \"London\"},\n",
    "   # {\"name\": \"Arushi\", \"age\": 28, \"city\": \"Paris\"}\n",
    "#]\n",
    "#my_collection.insert_many(records_many)\n",
    "\n",
    "# Print the inserted record using find_one()\n",
    "#result_one = my_collection.find_one({\"name\": \"John Doe\"})\n",
    "#print(\"Find One Result:\", result_one)\n",
    "\n",
    "# Print all records using find()\n",
    "#all_records = my_collection.find()\n",
    "#print(\"Find All Results:\")\n",
    "#for record in all_records:\n",
    " #   print(record)\n"
   ]
  },
  {
   "cell_type": "code",
   "execution_count": 6,
   "id": "8acae65c-df22-4778-ab57-4e3bcae2e0e7",
   "metadata": {},
   "outputs": [],
   "source": [
    "# Using find() to query MongoDB\n",
    "#query = {\"age\": {\"$gte\": 25}}  # Find records where age is greater than or equal to 25\n",
    "#result_query = my_collection.find(query)\n",
    "\n",
    "# Print the results\n",
    "#print(\"Query Results:\")\n",
    "#for record in result_query:\n",
    "   # print(record)\n"
   ]
  },
  {
   "cell_type": "code",
   "execution_count": 7,
   "id": "8818c360-d023-46af-bb18-201fc7bd2ec9",
   "metadata": {},
   "outputs": [],
   "source": [
    "#The sort() method in MongoDB is used to sort the documents in a collection based on a specified field. It takes the field name and an optional direction (ascending or descending).\n",
    "# Sorting documents based on age in ascending order\n",
    "#sorted_results = my_collection.find().sort(\"age\", 1)\n",
    "\n",
    "# Print the sorted results\n",
    "#print(\"Sorted Results (Ascending Order):\")\n",
    "#for record in sorted_results:\n",
    "   # print(record)\n"
   ]
  },
  {
   "cell_type": "code",
   "execution_count": 9,
   "id": "cb0e5687-8062-453e-b64d-75bd3fedd3cb",
   "metadata": {},
   "outputs": [],
   "source": [
    "#delete_one(filter): Deletes a single document that matches the specified filter criteria.\n",
    "#delete_many(filter): Deletes all documents that match the specified filter criteria.\n",
    "#drop(): Drops the entire collection, effectively deleting all documents and the collection itself.\n",
    "#These methods are used for removing data from MongoDB collections:\n",
    "\n",
    "#delete_one() and delete_many() are useful when you want to remove specific documents based on a filter.\n",
    "#drop() is more drastic; it removes the entire collection. Use it with caution, as it cannot be undone."
   ]
  },
  {
   "cell_type": "code",
   "execution_count": 10,
   "id": "4d6dd7b2-3b6c-427a-994f-9bb31180c176",
   "metadata": {},
   "outputs": [],
   "source": [
    "# Delete a single document\n",
    "#my_collection.delete_one({\"name\": \"John Doe\"})\n",
    "\n",
    "# Delete multiple documents\n",
    "#my_collection.delete_many({\"age\": {\"$lt\": 30}})\n",
    "\n",
    "# Drop the entire collection\n",
    "#my_collection.drop()\n"
   ]
  },
  {
   "cell_type": "code",
   "execution_count": null,
   "id": "4f00080f-d6f2-4e74-a15d-41f49558de9e",
   "metadata": {},
   "outputs": [],
   "source": []
  }
 ],
 "metadata": {
  "kernelspec": {
   "display_name": "Python 3 (ipykernel)",
   "language": "python",
   "name": "python3"
  },
  "language_info": {
   "codemirror_mode": {
    "name": "ipython",
    "version": 3
   },
   "file_extension": ".py",
   "mimetype": "text/x-python",
   "name": "python",
   "nbconvert_exporter": "python",
   "pygments_lexer": "ipython3",
   "version": "3.10.8"
  }
 },
 "nbformat": 4,
 "nbformat_minor": 5
}
